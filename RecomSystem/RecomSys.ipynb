{
 "cells": [
  {
   "cell_type": "markdown",
   "id": "acf26828-ed66-428e-a2a8-c9261cfdb1e1",
   "metadata": {},
   "source": [
    "# Learning the Embedding with the use of Neural Networks\n",
    "W'll use Neural Collaborative Filtering (https://arxiv.org/pdf/1708.05031.pdf) to create a NN that learns the embedding of the data"
   ]
  },
  {
   "cell_type": "markdown",
   "id": "69110ecc-7c8d-44e5-b8eb-7f161a43d431",
   "metadata": {},
   "source": [
    "## Necessary imports"
   ]
  },
  {
   "cell_type": "code",
   "execution_count": 1,
   "id": "6bfdaf01-4360-4099-938f-a69b9ca4fd21",
   "metadata": {},
   "outputs": [],
   "source": [
    "import pandas as pd\n",
    "import re\n",
    "import numpy as np\n",
    "from datetime import datetime\n",
    "## for plotting\n",
    "import matplotlib.pyplot as plt\n",
    "import seaborn as sns\n",
    "## for machine learning\n",
    "from sklearn import preprocessing, metrics"
   ]
  },
  {
   "cell_type": "markdown",
   "id": "6fff109c-8279-40d6-809d-8e2c8cb36368",
   "metadata": {},
   "source": [
    "## Importing the data"
   ]
  },
  {
   "cell_type": "code",
   "execution_count": null,
   "id": "6a321134-0810-4a87-b653-c43a0c3b7015",
   "metadata": {},
   "outputs": [],
   "source": []
  }
 ],
 "metadata": {
  "kernelspec": {
   "display_name": "recomsys2",
   "language": "python",
   "name": "recomsys2"
  },
  "language_info": {
   "codemirror_mode": {
    "name": "ipython",
    "version": 3
   },
   "file_extension": ".py",
   "mimetype": "text/x-python",
   "name": "python",
   "nbconvert_exporter": "python",
   "pygments_lexer": "ipython3",
   "version": "3.9.15"
  }
 },
 "nbformat": 4,
 "nbformat_minor": 5
}
